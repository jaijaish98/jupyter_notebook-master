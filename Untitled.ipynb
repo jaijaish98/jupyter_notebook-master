{
 "cells": [
  {
   "cell_type": "code",
   "execution_count": 4,
   "metadata": {},
   "outputs": [
    {
     "name": "stdout",
     "output_type": "stream",
     "text": [
      "('m', 'o', 'h')\n",
      "('m', 'o', 'a')\n",
      "('m', 'o', 'n')\n",
      "('m', 'o', 'a')\n",
      "('m', 'h', 'a')\n",
      "('m', 'h', 'n')\n",
      "('m', 'h', 'a')\n",
      "('m', 'a', 'n')\n",
      "('m', 'a', 'a')\n",
      "('m', 'n', 'a')\n",
      "('o', 'h', 'a')\n",
      "('o', 'h', 'n')\n",
      "('o', 'h', 'a')\n",
      "('o', 'a', 'n')\n",
      "('o', 'a', 'a')\n",
      "('o', 'n', 'a')\n",
      "('h', 'a', 'n')\n",
      "('h', 'a', 'a')\n",
      "('h', 'n', 'a')\n",
      "('a', 'n', 'a')\n",
      "20\n"
     ]
    }
   ],
   "source": [
    "import itertools\n",
    "str=\"mohana\"\n",
    "count=0\n",
    "for i in itertools.combinations(str,3):\n",
    "    print(i)\n",
    "    count=count+1\n",
    "print(count)"
   ]
  },
  {
   "cell_type": "code",
   "execution_count": 5,
   "metadata": {},
   "outputs": [
    {
     "data": {
      "text/plain": [
       "[('j', 'm'), ('a', 'o'), ('i', 'n')]"
      ]
     },
     "execution_count": 5,
     "metadata": {},
     "output_type": "execute_result"
    }
   ],
   "source": [
    "list(zip(['j','a','i'],['m','o','n']))\n"
   ]
  },
  {
   "cell_type": "code",
   "execution_count": 12,
   "metadata": {},
   "outputs": [
    {
     "name": "stdout",
     "output_type": "stream",
     "text": [
      "[[0, 0, 0, 0, 0], [0, 0, 0, 0, 0], [0, 0, 0, 0, 0], [0, 0, 0, 0, 0], [0, 0, 0, 0, 0]]\n"
     ]
    }
   ],
   "source": [
    "table = [[0 for x in range(5)] for y in range(5)] \n",
    "print(table)"
   ]
  },
  {
   "cell_type": "code",
   "execution_count": null,
   "metadata": {},
   "outputs": [],
   "source": [
    "def sum():\n",
    "    a=10\n",
    "    b=20\n",
    "    print(a+b)\n",
    "\n",
    "if __name__==\"__main__\":\n",
    "    sum()\n",
    "    print(__name__)"
   ]
  },
  {
   "cell_type": "code",
   "execution_count": 3,
   "metadata": {},
   "outputs": [],
   "source": [
    "class Myclass:\n",
    "    def method(self):\n",
    "        return (\"instance method called\",self)\n",
    "    @classmethod\n",
    "    def classmethod(cls):\n",
    "        return (\"class method called\",cls)\n",
    "    @staticmethod\n",
    "    def staticmethod():\n",
    "        return (\"static method called\")"
   ]
  },
  {
   "cell_type": "code",
   "execution_count": 11,
   "metadata": {},
   "outputs": [
    {
     "ename": "NameError",
     "evalue": "name 'self' is not defined",
     "output_type": "error",
     "traceback": [
      "\u001b[0;31m---------------------------------------------------------------------------\u001b[0m",
      "\u001b[0;31mNameError\u001b[0m                                 Traceback (most recent call last)",
      "\u001b[0;32m<ipython-input-11-8ce7d3bf21fd>\u001b[0m in \u001b[0;36m<module>\u001b[0;34m()\u001b[0m\n\u001b[1;32m      5\u001b[0m \u001b[0mMyclass\u001b[0m\u001b[0;34m.\u001b[0m\u001b[0mclassmethod\u001b[0m\u001b[0;34m(\u001b[0m\u001b[0;34m)\u001b[0m\u001b[0;34m\u001b[0m\u001b[0m\n\u001b[1;32m      6\u001b[0m \u001b[0mMyclass\u001b[0m\u001b[0;34m.\u001b[0m\u001b[0mstaticmethod\u001b[0m\u001b[0;34m(\u001b[0m\u001b[0;34m)\u001b[0m\u001b[0;34m\u001b[0m\u001b[0m\n\u001b[0;32m----> 7\u001b[0;31m \u001b[0mMyclass\u001b[0m\u001b[0;34m.\u001b[0m\u001b[0mmethod\u001b[0m\u001b[0;34m(\u001b[0m\u001b[0mself\u001b[0m\u001b[0;34m)\u001b[0m\u001b[0;34m\u001b[0m\u001b[0m\n\u001b[0m",
      "\u001b[0;31mNameError\u001b[0m: name 'self' is not defined"
     ]
    }
   ],
   "source": [
    "obj=Myclass()\n",
    "obj.method()\n",
    "obj.classmethod()\n",
    "obj.staticmethod()\n",
    "Myclass.classmethod()\n",
    "Myclass.staticmethod()\n",
    "Myclass.method()"
   ]
  },
  {
   "cell_type": "code",
   "execution_count": 77,
   "metadata": {},
   "outputs": [
    {
     "name": "stdout",
     "output_type": "stream",
     "text": [
      "3\n",
      "3\n",
      "16\n",
      "24\n",
      "60\n",
      "498\n",
      "861\n",
      "589\n",
      "[(16, 498), (24, 861), (60, 589)]\n",
      "14\n",
      "24\n",
      "62\n",
      "72\n",
      "557\n",
      "819\n",
      "[(14, 72), (24, 557), (62, 819)]\n",
      "16\n",
      "15\n",
      "69\n",
      "435\n",
      "779\n",
      "232\n",
      "[(15, 779), (16, 435), (69, 232)]\n",
      "[[(16, 498), (24, 861), (60, 589)], [(14, 72), (24, 557), (62, 819)], [(15, 779), (16, 435), (69, 232)]]\n",
      "2\n",
      "1\n",
      "3\n"
     ]
    }
   ],
   "source": [
    "#P-> No.of problems\n",
    "#s-> No.of Subtasks\n",
    "p=int(input())\n",
    "s=int(input())\n",
    "problems=[]\n",
    "for i in range(p):\n",
    "    sub_tasks=[]\n",
    "    studs=[]\n",
    "    for j in range(s):\n",
    "        x=int(input())\n",
    "        sub_tasks.append(x)\n",
    "    for j in range(s):\n",
    "        x=int(input())\n",
    "        studs.append(x)\n",
    "    \n",
    "    #Mapping the 2 lists(subtasks and corresponding No.of students solved the subtasks)\n",
    "    dict1=dict(zip(sub_tasks,studs))\n",
    "    \n",
    "    #Sorting the dictionary in increasing order of sub_task values\n",
    "    dict1=sorted(dict1.items())\n",
    "    problems.append(dict1)\n",
    "    print(dict1)\n",
    "\n",
    "print(problems)\n",
    "#Finding the difficulty \n",
    "difficulty={}\n",
    "for i in range(p):\n",
    "    count=0\n",
    "    \n",
    "    x=0\n",
    "    for j in range(s):\n",
    "        y=problems[i][j][1]\n",
    "        if x > y:\n",
    "            count=count+1\n",
    "        x=y\n",
    "    difficulty[i]=count\n",
    "#sorting the problems based on difficulty level\n",
    "sorted(difficulty.items())\n",
    "\n",
    "#printing the result\n",
    "for i in difficulty:\n",
    "    print(difficulty[i]+1)\n",
    "    \n",
    "\n",
    "    \n",
    "    \n"
   ]
  },
  {
   "cell_type": "code",
   "execution_count": 69,
   "metadata": {},
   "outputs": [
    {
     "name": "stdout",
     "output_type": "stream",
     "text": [
      "{16: 498, 24: 861, 60: 589}\n",
      "{14: 72, 24: 557, 62: 819}\n",
      "[(15, 779), (16, 435), (69, 232)]\n"
     ]
    }
   ],
   "source": [
    "dict1={16: 498, 24: 861, 60: 589}\n",
    "dict2={14: 72, 24: 557, 62: 819}\n",
    "dict3={16: 435, 15: 779, 69: 232}\n",
    "dict3=sorted(dict3.items())\n",
    "sorted(dict2.items())\n",
    "sorted(dict1.items())\n",
    "\n",
    "print(dict1)\n",
    "print(dict2)\n",
    "print(dict3)"
   ]
  },
  {
   "cell_type": "code",
   "execution_count": 75,
   "metadata": {},
   "outputs": [
    {
     "name": "stdout",
     "output_type": "stream",
     "text": [
      "24\n"
     ]
    }
   ],
   "source": [
    "x=[[(16, 498), (24, 861), (60, 589)], [(14, 72), (24, 557), (62, 819)], [(15, 779), (16, 435), (69, 232)]]\n",
    "print(x[0][1][0])"
   ]
  },
  {
   "cell_type": "code",
   "execution_count": 14,
   "metadata": {},
   "outputs": [
    {
     "ename": "SyntaxError",
     "evalue": "invalid syntax (<ipython-input-14-7b094c3b6292>, line 3)",
     "output_type": "error",
     "traceback": [
      "\u001b[0;36m  File \u001b[0;32m\"<ipython-input-14-7b094c3b6292>\"\u001b[0;36m, line \u001b[0;32m3\u001b[0m\n\u001b[0;31m    print(%(key,value))\u001b[0m\n\u001b[0m          ^\u001b[0m\n\u001b[0;31mSyntaxError\u001b[0m\u001b[0;31m:\u001b[0m invalid syntax\n"
     ]
    }
   ],
   "source": [
    "def myfun(**kwargs):\n",
    "    for key,value in kwargs.items():\n",
    "        print((key,value))\n",
    "myfun(jai=\"jai\",second=\"monu\")"
   ]
  },
  {
   "cell_type": "code",
   "execution_count": 24,
   "metadata": {},
   "outputs": [
    {
     "data": {
      "text/plain": [
       "{'jai': (1, 2), 'j': (3, 4)}"
      ]
     },
     "execution_count": 24,
     "metadata": {},
     "output_type": "execute_result"
    }
   ],
   "source": [
    "dict_jai={\"jai\":(1,2),\"j\":(3,4)}\n",
    "dict_jai"
   ]
  },
  {
   "cell_type": "code",
   "execution_count": 26,
   "metadata": {},
   "outputs": [
    {
     "data": {
      "text/plain": [
       "2.0"
      ]
     },
     "execution_count": 26,
     "metadata": {},
     "output_type": "execute_result"
    }
   ],
   "source": [
    "import math\n",
    "\n",
    "q=math.sqrt(4)\n",
    "if "
   ]
  },
  {
   "cell_type": "code",
   "execution_count": 16,
   "metadata": {},
   "outputs": [
    {
     "name": "stdout",
     "output_type": "stream",
     "text": [
      "adb shell am broadcast -a amazon.speech.SEND_TO_SIM --es ttsText \"\"Alexa, open netflix\"\"\n"
     ]
    }
   ],
   "source": [
    "cmd=\"Alexa, open netflix\"\n",
    "str='adb shell am broadcast -a amazon.speech.SEND_TO_SIM --es ttsText \"\\\"'+cmd+'\\\"\"'\n",
    "print(str)\n",
    "#tts=\"adb shell am broadcast -a amazon.speech.SEND_TO_SIM --es ttsText \"\\\"\"+cmd+\"\"\"\""
   ]
  },
  {
   "cell_type": "code",
   "execution_count": 3,
   "metadata": {},
   "outputs": [
    {
     "name": "stdout",
     "output_type": "stream",
     "text": [
      "adb shell am start -d \"'amzn://apps/android?ref=apps_ari_hello&initiatePurchaseFlow=true&asin=B01CN3NNJG'\"\n"
     ]
    }
   ],
   "source": [
    "print(\"adb shell am start -d \\\"\\'amzn://apps/android?ref=apps_ari_hello&initiatePurchaseFlow=true&asin=B01CN3NNJG\\'\\\"\")\n"
   ]
  },
  {
   "cell_type": "code",
   "execution_count": 10,
   "metadata": {},
   "outputs": [
    {
     "data": {
      "text/plain": [
       "(-1+0j)"
      ]
     },
     "execution_count": 10,
     "metadata": {},
     "output_type": "execute_result"
    }
   ],
   "source": []
  },
  {
   "cell_type": "code",
   "execution_count": 18,
   "metadata": {},
   "outputs": [
    {
     "data": {
      "text/plain": [
       "3"
      ]
     },
     "execution_count": 18,
     "metadata": {},
     "output_type": "execute_result"
    }
   ],
   "source": [
    "f_obj=open(\"jai_example.in\",\"w\")\n",
    "\n",
    "f_obj.write(\"jay\")"
   ]
  },
  {
   "cell_type": "code",
   "execution_count": 43,
   "metadata": {},
   "outputs": [
    {
     "ename": "TypeError",
     "evalue": "'dict' object is not callable",
     "output_type": "error",
     "traceback": [
      "\u001b[0;31m---------------------------------------------------------------------------\u001b[0m",
      "\u001b[0;31mTypeError\u001b[0m                                 Traceback (most recent call last)",
      "\u001b[0;32m<ipython-input-43-b722c52ec57b>\u001b[0m in \u001b[0;36m<module>\u001b[0;34m()\u001b[0m\n\u001b[1;32m     20\u001b[0m     }\n\u001b[1;32m     21\u001b[0m }\n\u001b[0;32m---> 22\u001b[0;31m \u001b[0mprint\u001b[0m\u001b[0;34m(\u001b[0m\u001b[0mflatten_dict\u001b[0m\u001b[0;34m(\u001b[0m\u001b[0mdict1\u001b[0m\u001b[0;34m)\u001b[0m\u001b[0;34m)\u001b[0m\u001b[0;34m\u001b[0m\u001b[0m\n\u001b[0m\u001b[1;32m     23\u001b[0m \u001b[0;34m\u001b[0m\u001b[0m\n",
      "\u001b[0;32m<ipython-input-43-b722c52ec57b>\u001b[0m in \u001b[0;36mflatten_dict\u001b[0;34m(d)\u001b[0m\n\u001b[1;32m      8\u001b[0m                 \u001b[0;32myield\u001b[0m \u001b[0mkey\u001b[0m\u001b[0;34m,\u001b[0m \u001b[0mvalue\u001b[0m\u001b[0;34m\u001b[0m\u001b[0m\n\u001b[1;32m      9\u001b[0m \u001b[0;34m\u001b[0m\u001b[0m\n\u001b[0;32m---> 10\u001b[0;31m     \u001b[0;32mreturn\u001b[0m \u001b[0mdict\u001b[0m\u001b[0;34m(\u001b[0m\u001b[0mitems\u001b[0m\u001b[0;34m(\u001b[0m\u001b[0;34m)\u001b[0m\u001b[0;34m)\u001b[0m\u001b[0;34m\u001b[0m\u001b[0m\n\u001b[0m\u001b[1;32m     11\u001b[0m \u001b[0;34m\u001b[0m\u001b[0m\n\u001b[1;32m     12\u001b[0m \u001b[0;34m\u001b[0m\u001b[0m\n",
      "\u001b[0;31mTypeError\u001b[0m: 'dict' object is not callable"
     ]
    }
   ],
   "source": [
    "def flatten_dict(d):\n",
    "    def items():\n",
    "        for key, value in d.items():\n",
    "            if isinstance(value, dict):\n",
    "                for subkey, subvalue in flatten_dict(value).items():\n",
    "                    yield key + \".\" + subkey, subvalue\n",
    "            else:\n",
    "                yield key, value\n",
    "\n",
    "    return dict(items())\n",
    "\n",
    "\n",
    "dict1 = {\n",
    "    \"key\": 3,\n",
    "    \"foo\": {\n",
    "        \"a\": 5,\n",
    "        \"bar\": {\n",
    "            \"baz\": 8\n",
    "        }\n",
    "    }\n",
    "}\n",
    "print(flatten_dict(dict1))\n",
    "\n",
    "\n"
   ]
  },
  {
   "cell_type": "code",
   "execution_count": 46,
   "metadata": {},
   "outputs": [
    {
     "ename": "SyntaxError",
     "evalue": "invalid syntax (<ipython-input-46-5864fdde2af8>, line 1)",
     "output_type": "error",
     "traceback": [
      "\u001b[0;36m  File \u001b[0;32m\"<ipython-input-46-5864fdde2af8>\"\u001b[0;36m, line \u001b[0;32m1\u001b[0m\n\u001b[0;31m    ***Flatten dictionary***\u001b[0m\n\u001b[0m     ^\u001b[0m\n\u001b[0;31mSyntaxError\u001b[0m\u001b[0;31m:\u001b[0m invalid syntax\n"
     ]
    }
   ],
   "source": [
    "\n",
    "###Flatten dictionary###\n",
    "\n",
    "def flatten_dict(d):\n",
    "    def items():\n",
    "        for key, value in d.items():\n",
    "            if isinstance(value, dict):\n",
    "                for subkey, subvalue in flatten_dict(value).items():\n",
    "                    yield key + \".\" + subkey, subvalue\n",
    "            else:\n",
    "                yield key, value\n",
    "\n",
    "    return dict(items())\n",
    "\n",
    "\n",
    "d = {\n",
    "    \"key\": 3,\n",
    "    \"foo\": {\n",
    "        \"a\": 5,\n",
    "        \"bar\": {\n",
    "            \"baz\": 8\n",
    "        }\n",
    "    }\n",
    "}\n",
    "print(flatten_dict(d))\n",
    "\n",
    "\n"
   ]
  },
  {
   "cell_type": "code",
   "execution_count": 5,
   "metadata": {},
   "outputs": [
    {
     "name": "stdout",
     "output_type": "stream",
     "text": [
      "4\n",
      "4\n"
     ]
    }
   ],
   "source": [
    "n= int(input())\n",
    "print(n)"
   ]
  },
  {
   "cell_type": "code",
   "execution_count": 3,
   "metadata": {},
   "outputs": [
    {
     "name": "stdout",
     "output_type": "stream",
     "text": [
      "3\n",
      "12\n",
      "13\n",
      "14\n",
      "[12, 13, 14]\n",
      "2\n",
      "3\n",
      "2\n",
      "[4, 4, 4]\n",
      "[2, 2, 2]\n"
     ]
    }
   ],
   "source": [
    "'''\n",
    "# Sample code to perform I/O:\n",
    "\n",
    "name = input()                  # Reading input from STDIN\n",
    "print('Hi, %s.' % name)         # Writing output to STDOUT\n",
    "\n",
    "# Warning: Printing unwanted or ill-formatted data to output will cause the test cases to fail\n",
    "'''\n",
    "\n",
    "# Write your code here\n",
    "# Sample bash code\n",
    "size=int(input())\n",
    "array=[]\n",
    "for i in range(size):\n",
    "    x=int(input())\n",
    "    array.append(x)\n",
    "print(array)\n",
    "tc=int(input())\n",
    "test_cases=[]\n",
    "for i in range(tc):\n",
    "    y=int(input())\n",
    "    test_cases.append(y)\n",
    "for i in range(tc):\n",
    "    for j in range(size):\n",
    "        array[j]=int(array[j]/test_cases[i])\n",
    "    print(array)\n",
    "# for i in range(size):\n",
    "#     print(array[i])"
   ]
  },
  {
   "cell_type": "code",
   "execution_count": 4,
   "metadata": {},
   "outputs": [
    {
     "name": "stdout",
     "output_type": "stream",
     "text": [
      "hi\n"
     ]
    },
    {
     "data": {
      "text/plain": [
       "['_A__j',\n",
       " '__class__',\n",
       " '__delattr__',\n",
       " '__dict__',\n",
       " '__dir__',\n",
       " '__doc__',\n",
       " '__eq__',\n",
       " '__format__',\n",
       " '__ge__',\n",
       " '__getattribute__',\n",
       " '__gt__',\n",
       " '__hash__',\n",
       " '__init__',\n",
       " '__init_subclass__',\n",
       " '__le__',\n",
       " '__lt__',\n",
       " '__module__',\n",
       " '__ne__',\n",
       " '__new__',\n",
       " '__reduce__',\n",
       " '__reduce_ex__',\n",
       " '__repr__',\n",
       " '__setattr__',\n",
       " '__sizeof__',\n",
       " '__str__',\n",
       " '__subclasshook__',\n",
       " '__weakref__']"
      ]
     },
     "execution_count": 4,
     "metadata": {},
     "output_type": "execute_result"
    }
   ],
   "source": [
    "class A():\n",
    "    print(\"hi\")\n",
    "    __j=10\n",
    "obj = A()\n",
    "dir(obj)"
   ]
  },
  {
   "cell_type": "code",
   "execution_count": 30,
   "metadata": {},
   "outputs": [],
   "source": [
    "def do_twice(func):\n",
    "    def wrapper_do_twice():\n",
    "        func()\n",
    "        func()\n",
    "    return wrapper_do_twice"
   ]
  },
  {
   "cell_type": "code",
   "execution_count": 32,
   "metadata": {},
   "outputs": [],
   "source": [
    "@do_twice\n",
    "def say_whee():\n",
    "    print(\"Hi\")"
   ]
  },
  {
   "cell_type": "code",
   "execution_count": 33,
   "metadata": {},
   "outputs": [
    {
     "name": "stdout",
     "output_type": "stream",
     "text": [
      "Hi\n",
      "Hi\n"
     ]
    }
   ],
   "source": [
    "say_whee()"
   ]
  },
  {
   "cell_type": "code",
   "execution_count": 41,
   "metadata": {},
   "outputs": [
    {
     "name": "stdout",
     "output_type": "stream",
     "text": [
      "[10, 20, 30]\n"
     ]
    }
   ],
   "source": [
    "import pickle\n",
    "\n",
    "a=[10,20,30]\n",
    "b=pickle.dumps(a)\n",
    "\n",
    "output=pickle.loads(b)\n",
    "print(output)"
   ]
  },
  {
   "cell_type": "code",
   "execution_count": 42,
   "metadata": {},
   "outputs": [
    {
     "name": "stdout",
     "output_type": "stream",
     "text": [
      "{'Omkar': {'key': 'Omkar', 'name': 'Omkar Pathak', 'age': 21, 'pay': 40000}, 'Jagdish': {'key': 'Jagdish', 'name': 'Jagdish Pathak', 'age': 50, 'pay': 50000}}\n"
     ]
    }
   ],
   "source": [
    "import pickle\n",
    "\n",
    "Omkar = {'key' : 'Omkar', 'name' : 'Omkar Pathak',  \n",
    "'age' : 21, 'pay' : 40000} \n",
    "Jagdish = {'key' : 'Jagdish', 'name' : 'Jagdish Pathak', \n",
    "'age' : 50, 'pay' : 50000} \n",
    "  \n",
    "# database \n",
    "db = {} \n",
    "db['Omkar'] = Omkar \n",
    "db['Jagdish'] = Jagdish \n",
    "  \n",
    "# For storing \n",
    "b = pickle.dumps(db)       # type(b) gives <class 'bytes'> \n",
    "  \n",
    "# For loading \n",
    "myEntry = pickle.loads(b) \n",
    "print(myEntry) "
   ]
  },
  {
   "cell_type": "code",
   "execution_count": 67,
   "metadata": {},
   "outputs": [
    {
     "name": "stdout",
     "output_type": "stream",
     "text": [
      "2\n",
      "{2}\n",
      "7\n",
      "{2, 7}\n",
      "5\n",
      "{2, 5, 7}\n",
      "9\n",
      "{9, 2, 5, 7}\n",
      "6\n",
      "{2, 5, 6, 7, 9}\n",
      "1\n",
      "{1, 2, 5, 6, 7, 9}\n",
      "8\n",
      "{1, 2, 5, 6, 7, 8, 9}\n",
      "10\n",
      "{1, 2, 5, 6, 7, 8, 9, 10}\n",
      "3\n",
      "{1, 2, 3, 5, 6, 7, 8, 9, 10}\n",
      "4\n",
      "{1, 2, 3, 4, 5, 6, 7, 8, 9, 10}\n",
      "[11, 20, 30, 41, 58, 61, 77, 96, 102, 120]\n"
     ]
    }
   ],
   "source": [
    "def goodRange(R,Q):\n",
    "    mySet=set()\n",
    "    sum=[]\n",
    "    for i in range(R):\n",
    "        mySet.add(int(input()))\n",
    "        sum.append(calculateSum(mySet,R))\n",
    "    print(sum)\n",
    "    \n",
    "def calculateSum(mySet,R):\n",
    "    print(mySet)\n",
    "    sum=0\n",
    "    myList=list(mySet)\n",
    "    for i in range(len(myList)):\n",
    "        if i==0 and len(myList)==1:\n",
    "            sum=1+R\n",
    "            return sum\n",
    "        elif i==0 and len(myList) is not R:\n",
    "            sum=sum+i+1+(myList[i+1]-1)\n",
    "        elif i==(len(myList)-1):\n",
    "            sum=sum+R+(myList[i-1]+1)\n",
    "        else:\n",
    "            sum=sum+(myList[i-1]+1)+(myList[i+1]-1)\n",
    "    return sum\n",
    "    \n",
    "goodRange(10,10)"
   ]
  },
  {
   "cell_type": "code",
   "execution_count": 101,
   "metadata": {},
   "outputs": [
    {
     "name": "stdout",
     "output_type": "stream",
     "text": [
      "Level order traversal of binary tree is -\n",
      "[4, 5]\n"
     ]
    }
   ],
   "source": [
    "# Recursive Python program for level order traversal of Binary Tree \n",
    "\n",
    "# A node structure \n",
    "class Node:\n",
    "# A utility function to create a new node \n",
    "    def __init__(self, key): \n",
    "        self.data = key \n",
    "        self.left = None\n",
    "        self.right = None\n",
    "\n",
    "\n",
    "# Function to print level order traversal of tree \n",
    "def printLevelOrder(root):\n",
    "    q = []\n",
    "    h = height(root) \n",
    "    printGivenLevel(root, 2 ,q)\n",
    "    \n",
    "# Print nodes at a given level \n",
    "def printGivenLevel(root , level, q): \n",
    "    if root is None:\n",
    "        return q\n",
    "    if level == 0: \n",
    "        q.append(root.data)\n",
    "        return q\n",
    "    elif level > 0 :\n",
    "        printGivenLevel(root.left , level-1, q) \n",
    "        printGivenLevel(root.right , level-1, q)\n",
    "        return q\n",
    "\"\"\" Compute the height of a tree--the number of nodes \n",
    "    along the longest path from the root node down to \n",
    "    the farthest leaf node \n",
    "\"\"\"\n",
    "def height(node): \n",
    "    if node is None: \n",
    "        return 0\n",
    "    else : \n",
    "        # Compute the height of each subtree \n",
    "        lheight = height(node.left) \n",
    "        rheight = height(node.right) \n",
    "\n",
    "        #Use the larger one \n",
    "        if lheight > rheight : \n",
    "            return lheight+1\n",
    "        else: \n",
    "            return rheight+1\n",
    "\n",
    "# Driver program to test above function \n",
    "root = Node(1) \n",
    "root.left = Node(2) \n",
    "root.right = Node(3) \n",
    "root.left.left = Node(4) \n",
    "root.left.right = Node(5) \n",
    "\n",
    "print (\"Level order traversal of binary tree is -\")\n",
    "printLevelOrder(root) \n",
    "\n"
   ]
  },
  {
   "cell_type": "code",
   "execution_count": 26,
   "metadata": {},
   "outputs": [],
   "source": [
    "class Node:\n",
    "# A utility function to create a new node \n",
    "    def __init__(self, key): \n",
    "        self.data = key \n",
    "        self.left = None\n",
    "        self.right = None"
   ]
  },
  {
   "cell_type": "code",
   "execution_count": 27,
   "metadata": {},
   "outputs": [],
   "source": [
    "def getLevelNodeValues(root,l):\n",
    "    q = [] \n",
    "    return collectGivenLevelNodeValues(root, l ,q)"
   ]
  },
  {
   "cell_type": "code",
   "execution_count": 28,
   "metadata": {},
   "outputs": [],
   "source": [
    "def collectGivenLevelNodeValues(root , level, q): \n",
    "    if root is None:\n",
    "        return q\n",
    "    if level == 0: \n",
    "        q.append(root.data)\n",
    "        return q\n",
    "    elif level > 0 :\n",
    "        collectGivenLevelNodeValues(root.left , level-1, q) \n",
    "        collectGivenLevelNodeValues(root.right , level-1, q)\n",
    "        return q"
   ]
  },
  {
   "cell_type": "code",
   "execution_count": 29,
   "metadata": {},
   "outputs": [],
   "source": [
    "def height(node): \n",
    "    if node is None: \n",
    "        return 0\n",
    "    else : \n",
    "        # Compute the height of each subtree \n",
    "        lheight = height(node.left) \n",
    "        rheight = height(node.right) \n",
    "\n",
    "        #Use the larger one \n",
    "        if lheight > rheight : \n",
    "            return lheight+1\n",
    "        else: \n",
    "            return rheight+1"
   ]
  },
  {
   "cell_type": "code",
   "execution_count": 30,
   "metadata": {},
   "outputs": [],
   "source": [
    "def insert(temp,key,parent): \n",
    "\n",
    "    q = [] \n",
    "    q.append(temp) \n",
    "\n",
    "# Do level order traversal until we find \n",
    "# an empty place. \n",
    "    while (len(q)): \n",
    "        temp = q[0] \n",
    "        q.pop(0) \n",
    "\n",
    "        if (not temp.left and temp.data==parent): \n",
    "            temp.left = Node(key) \n",
    "            break\n",
    "        else: \n",
    "            q.append(temp.left) \n",
    "\n",
    "        if (not temp.right and temp.data==parent): \n",
    "            temp.right = Node(key) \n",
    "            break\n",
    "        else: \n",
    "            q.append(temp.right)"
   ]
  },
  {
   "cell_type": "code",
   "execution_count": 40,
   "metadata": {},
   "outputs": [],
   "source": [
    "def printInorder(root): \n",
    "  \n",
    "    if root: \n",
    "  \n",
    "        # First recur on left child \n",
    "        printInorder(root.left) \n",
    "  \n",
    "        # then print the data of node \n",
    "        print(root.data), \n",
    "  \n",
    "        # now recur on right child \n",
    "        printInorder(root.right) "
   ]
  },
  {
   "cell_type": "code",
   "execution_count": null,
   "metadata": {},
   "outputs": [],
   "source": [
    "N=int(input())\n",
    "Q=int(input())\n",
    "arr=[]\n",
    "\n",
    "for i in range(N):\n",
    "    arr.append(int(input()))\n",
    "root = Node(1) \n",
    "\n",
    "for i in range(N-1):\n",
    "    parent=int(input())\n",
    "    data=int(input())\n",
    "    insert(root,data,parent)\n",
    "\n",
    "h=height(root)-1\n",
    "\n",
    "for i in range(Q):\n",
    "    u=int(input())\n",
    "    v=int(input())\n",
    "    L= u%(h+1)\n",
    "    q=getLevelNodeValues(root,L)\n",
    "    val=-1\n",
    "    for i in range(len(q)):\n",
    "        if arr[q[i]-1] > v:\n",
    "            val=arr[q[i]-1]\n",
    "            break\n",
    "    print(val)\n",
    "\n"
   ]
  },
  {
   "cell_type": "code",
   "execution_count": 38,
   "metadata": {},
   "outputs": [
    {
     "data": {
      "text/plain": [
       "dict_values([{2, 3}])"
      ]
     },
     "execution_count": 38,
     "metadata": {},
     "output_type": "execute_result"
    }
   ],
   "source": [
    "md={}\n",
    "md[1]={2}\n",
    "md[1].add(3)\n",
    "md\n",
    "md.values()"
   ]
  },
  {
   "cell_type": "code",
   "execution_count": null,
   "metadata": {},
   "outputs": [],
   "source": []
  }
 ],
 "metadata": {
  "kernelspec": {
   "display_name": "Python 3",
   "language": "python",
   "name": "python3"
  },
  "language_info": {
   "codemirror_mode": {
    "name": "ipython",
    "version": 3
   },
   "file_extension": ".py",
   "mimetype": "text/x-python",
   "name": "python",
   "nbconvert_exporter": "python",
   "pygments_lexer": "ipython3",
   "version": "3.6.5"
  }
 },
 "nbformat": 4,
 "nbformat_minor": 2
}
