{
 "cells": [
  {
   "cell_type": "code",
   "execution_count": 3,
   "metadata": {},
   "outputs": [
    {
     "name": "stdout",
     "output_type": "stream",
     "text": [
      "Enter the textabcdefabc\n",
      "Enter the patternabc\n",
      "abc\n",
      "0\n",
      "abc\n",
      "6\n"
     ]
    }
   ],
   "source": [
    "text=input(\"Enter the text\")\n",
    "pattern=input(\"Enter the pattern\")\n",
    "n=len(pattern)\n",
    "m=len(text)\n",
    "iterator=0\n",
    "for iterator in range(m-n+1):\n",
    "    if(text[iterator:iterator+n]==pattern):\n",
    "        print(text[iterator:iterator+n])\n",
    "        print(iterator)\n"
   ]
  },
  {
   "cell_type": "code",
   "execution_count": 5,
   "metadata": {},
   "outputs": [
    {
     "name": "stdout",
     "output_type": "stream",
     "text": [
      "2\n",
      "{2}\n",
      "7\n",
      "{2, 7}\n",
      "5\n",
      "{2, 5, 7}\n",
      "8\n",
      "{8, 2, 5, 7}\n",
      "9\n",
      "{2, 5, 7, 8, 9}\n",
      "1\n",
      "{1, 2, 5, 7, 8, 9}\n",
      "1\n",
      "{1, 2, 5, 7, 8, 9}\n",
      "1\n",
      "{1, 2, 5, 7, 8, 9}\n",
      "1\n",
      "{1, 2, 5, 7, 8, 9}\n",
      "1\n",
      "{1, 2, 5, 7, 8, 9}\n",
      "[11, 20, 30, 40, 62, 65, 65, 65, 65, 65]\n"
     ]
    }
   ],
   "source": [
    "def goodRange(R,Q):\n",
    "    mySet=set()\n",
    "    sum=[]\n",
    "    for i in range(R):\n",
    "        mySet.add(int(input()))\n",
    "        sum.append(calculateSum(mySet,R))\n",
    "    print(sum)\n",
    "    \n",
    "def calculateSum(mySet,R):\n",
    "    print(mySet)\n",
    "    sum=0\n",
    "    myList=list(mySet)\n",
    "    for i in range(len(myList)):\n",
    "        if i==0 and len(myList)==1:\n",
    "            sum=1+R\n",
    "            return sum\n",
    "        elif i==0 and len(myList) is not R:\n",
    "            sum=sum+i+1+(myList[i+1]-1)\n",
    "        elif i==(len(myList)-1):\n",
    "            sum=sum+R+(myList[i-1]+1)\n",
    "        else:\n",
    "            sum=sum+(myList[i-1]+1)+(myList[i+1]-1)\n",
    "    return sum\n",
    "    \n",
    "goodRange(10,10)"
   ]
  },
  {
   "cell_type": "markdown",
   "metadata": {},
   "source": [
    "myList=[]\n",
    "mylist.append(10)\n",
    "myList.append(20)\n",
    "myList.append(30)\n",
    "myList.pop(0)"
   ]
  },
  {
   "cell_type": "code",
   "execution_count": 12,
   "metadata": {},
   "outputs": [
    {
     "name": "stdout",
     "output_type": "stream",
     "text": [
      "[10, 20, 23]\n",
      "[20, 23]\n"
     ]
    }
   ],
   "source": [
    "l=[]\n",
    "l.append(10)\n",
    "l.append(20)\n",
    "l.append(23)\n",
    "print(l)\n",
    "l.pop(0)\n",
    "print(l)"
   ]
  },
  {
   "cell_type": "code",
   "execution_count": null,
   "metadata": {},
   "outputs": [],
   "source": [
    "# Recursive Python program for level order traversal of Binary Tree \n",
    "\n",
    "# A node structure \n",
    "class Node: \n",
    "\n",
    "\t# A utility function to create a new node \n",
    "\tdef __init__(self, key): \n",
    "\t\tself.data = key \n",
    "\t\tself.left = None\n",
    "\t\tself.right = None\n",
    "\n",
    "\n",
    "# Function to print level order traversal of tree \n",
    "def printLevelOrder(root): \n",
    "\th = height(root) \n",
    "\tfor i in range(1, h+1):\n",
    "\t\tl=[]\n",
    "        printGivenLevel(root, i,l)\n",
    "\t\n",
    "# Print nodes at a given level \n",
    "def printGivenLevel(root , level,l): \n",
    "\tif root is None: \n",
    "\t\tprint(l)\n",
    "\tif level == 1: \n",
    "\t\tl.append(root.data)\n",
    "        print(l)\n",
    "\telif level > 1 : \n",
    "\t\tprintGivenLevel(root.left , level-1,l) \n",
    "\t\tprintGivenLevel(root.right , level-1,l) \n",
    "\n",
    "\n",
    "\"\"\" Compute the height of a tree--the number of nodes \n",
    "\talong the longest path from the root node down to \n",
    "\tthe farthest leaf node \n",
    "\"\"\"\n",
    "def height(node): \n",
    "\tif node is None: \n",
    "\t\treturn 0\n",
    "\telse : \n",
    "\t\t# Compute the height of each subtree \n",
    "\t\tlheight = height(node.left) \n",
    "\t\trheight = height(node.right) \n",
    "\n",
    "\t\t#Use the larger one \n",
    "\t\tif lheight > rheight : \n",
    "\t\t\treturn lheight+1\n",
    "\t\telse: \n",
    "\t\t\treturn rheight+1\n",
    "\n",
    "# Driver program to test above function \n",
    "root = Node(1) \n",
    "root.left = Node(2) \n",
    "root.right = Node(3) \n",
    "root.left.left = Node(4) \n",
    "root.left.right = Node(5) \n",
    "\n",
    "print \"Level order traversal of binary tree is -\"\n",
    "printLevelOrder(root) \n",
    "\n",
    "#This code is contributed by Nikhil Kumar Singh(nickzuck_007) \n"
   ]
  }
 ],
 "metadata": {
  "kernelspec": {
   "display_name": "Python 3",
   "language": "python",
   "name": "python3"
  },
  "language_info": {
   "codemirror_mode": {
    "name": "ipython",
    "version": 3
   },
   "file_extension": ".py",
   "mimetype": "text/x-python",
   "name": "python",
   "nbconvert_exporter": "python",
   "pygments_lexer": "ipython3",
   "version": "3.6.5"
  }
 },
 "nbformat": 4,
 "nbformat_minor": 2
}
